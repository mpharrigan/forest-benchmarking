{
 "cells": [
  {
   "cell_type": "markdown",
   "metadata": {},
   "source": [
    "# Qubit spectroscopy: $T_1$ measurement example\n",
    "\n",
    "This notebook demonstrates how to assess the decoherence time, $T_1$, of one or more qubits on a real quantum device using pyQuil. A $T_1$ experiment consists of an X pulse, bringing the qubit from $|0\\rangle$ to $|1\\rangle$ (the excited state of the artifical atom), followed by a delay of variable duration. \n",
    "\n",
    "The physics of the devices is such that We expect the state to decay exponentially with increasing time because of [\"energy relaxation\"](https://en.wikipedia.org/wiki/Relaxation_(NMR)). We characterize this decay by the time decay constant, which we call $\\Gamma =1/T_1$. The parameter $T_1$ is refered to as the qubit's \"relaxation\" or \"decoherence\" time. A sample QUIL program at one data point (specified by the duration of the DELAY pragma) for qubit 0 with a 10us wait would look like \n",
    "\n",
    "    DECLARE ro BIT[1]\n",
    "    RX(pi) 0\n",
    "    PRAGMA DELAY 0 \"1e-05\"\n",
    "    MEASURE 0 ro[0]\n",
    "\n",
    "**NB: Since decoherence and dephasing noise are only simulated on gates, and we make use of DELAY pragmas to simulate relaxation time, we cannot simulate decoherence on the QPU with this experiment as written. This notebook should only be run on a real quantum device.**"
   ]
  },
  {
   "cell_type": "markdown",
   "metadata": {},
   "source": [
    "## setup - imports and relevant units"
   ]
  },
  {
   "cell_type": "code",
   "execution_count": null,
   "metadata": {},
   "outputs": [],
   "source": [
    "import pandas as pd\n",
    "from matplotlib import pyplot as plt\n",
    "from pyquil.api import get_qc, QuantumComputer\n",
    "\n",
    "from forest.benchmarking.qubit_spectroscopy import (\n",
    "    generate_t1_experiment,\n",
    "    acquire_t1_data,\n",
    "    estimate_t1,\n",
    "    plot_t1_estimate_over_data)"
   ]
  },
  {
   "cell_type": "markdown",
   "metadata": {},
   "source": [
    "We treat SI base units, such as the second, as dimensionless, unit quantities, so we define relative units, such as the microsecond, using scientific notation. "
   ]
  },
  {
   "cell_type": "code",
   "execution_count": null,
   "metadata": {},
   "outputs": [],
   "source": [
    "MICROSECOND = 1e-6"
   ]
  },
  {
   "cell_type": "markdown",
   "metadata": {},
   "source": [
    "## measurement, analysis, and plotting"
   ]
  },
  {
   "cell_type": "markdown",
   "metadata": {},
   "source": [
    "**Get a quantum computer**"
   ]
  },
  {
   "cell_type": "code",
   "execution_count": null,
   "metadata": {},
   "outputs": [],
   "source": [
    "#qc = get_qc('Aspen-1-15Q-A')\n",
    "qc = get_qc('2q-noisy-qvm') # will run on a QVM, but not meaningfully \n",
    "qubits = qc.qubits()\n",
    "qubits"
   ]
  },
  {
   "cell_type": "markdown",
   "metadata": {},
   "source": [
    "**Generate simultaneous $T_1$ experiments**\n",
    "\n",
    "We make and experiment for each desired qubit in `qubits`, specifying the times in seconds at which we would like to measure the decay."
   ]
  },
  {
   "cell_type": "code",
   "execution_count": null,
   "metadata": {},
   "outputs": [],
   "source": [
    "import numpy as np\n",
    "stop_time = 60 * MICROSECOND\n",
    "num_points = 15\n",
    "times = np.linspace(0, stop_time, num_points)\n",
    "expts = [generate_t1_experiment(q, times) for q in qubits]\n",
    "print(expts[0])"
   ]
  },
  {
   "cell_type": "markdown",
   "metadata": {},
   "source": [
    "**Acquire data**\n",
    "\n",
    "Collect our $T_1$ raw data using `acquire_t1_data`. "
   ]
  },
  {
   "cell_type": "code",
   "execution_count": null,
   "metadata": {},
   "outputs": [],
   "source": [
    "num_shots = 1000\n",
    "acquire_t1_data(qc, expts, num_shots)"
   ]
  },
  {
   "cell_type": "markdown",
   "metadata": {},
   "source": [
    "**Use the results to produce estimates of $T_1$**"
   ]
  },
  {
   "cell_type": "markdown",
   "metadata": {},
   "source": [
    "This method takes a StratifiedExperiment object with all the $T_1$ data, including the times and qubit measured and the resulting decay at each data point, and fits to an exponential decay curve. "
   ]
  },
  {
   "cell_type": "code",
   "execution_count": null,
   "metadata": {},
   "outputs": [],
   "source": [
    "params1, errs1 = estimate_t1(expts[0])\n",
    "params2, errs2 = estimate_t1(expts[1])\n",
    "params = [params1, params2]\n",
    "errs = [errs1, errs2]"
   ]
  },
  {
   "cell_type": "markdown",
   "metadata": {},
   "source": [
    "**Now plot the fit over the data**"
   ]
  },
  {
   "cell_type": "code",
   "execution_count": 7,
   "metadata": {},
   "outputs": [
    {
     "data": {
      "image/png": "[encoded data removed]",
      "text/plain": [
       "<matplotlib.figure.Figure at 0x12b832860>"
      ]
     },
     "metadata": {},
     "output_type": "display_data"
    }
   ],
   "source": [
    "plot_t1_estimate_over_data(expts, params, errs)"
   ]
  },
  {
   "cell_type": "code",
   "execution_count": null,
   "metadata": {},
   "outputs": [],
   "source": []
  }
 ],
 "metadata": {
  "language_info": {
   "name": "python",
   "pygments_lexer": "ipython3"
  }
 },
 "nbformat": 4,
 "nbformat_minor": 2
}
